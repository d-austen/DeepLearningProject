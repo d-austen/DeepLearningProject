{
  "cells": [
    {
      "cell_type": "markdown",
      "metadata": {
        "id": "view-in-github",
        "colab_type": "text"
      },
      "source": [
        "<a href=\"https://colab.research.google.com/github/d-austen/DeepLearningProject/blob/main/summerdays.ipynb\" target=\"_parent\"><img src=\"https://colab.research.google.com/assets/colab-badge.svg\" alt=\"Open In Colab\"/></a>"
      ]
    },
    {
      "cell_type": "markdown",
      "id": "150fb896",
      "metadata": {
        "id": "150fb896"
      },
      "source": [
        "Let's start off by importing some packages we'll need."
      ]
    },
    {
      "cell_type": "code",
      "execution_count": 1,
      "id": "82b772eb",
      "metadata": {
        "id": "82b772eb"
      },
      "outputs": [],
      "source": [
        "import numpy as np\n",
        "import xarray as xr\n",
        "import pandas as pd\n",
        "from matplotlib import pyplot as plt\n",
        "from tqdm import tqdm\n",
        "import torch\n",
        "import torch.nn as nn\n",
        "from torch.utils.data import TensorDataset, DataLoader"
      ]
    },
    {
      "cell_type": "code",
      "execution_count": 2,
      "id": "B27Fh1L6ZoFh",
      "metadata": {
        "colab": {
          "base_uri": "https://localhost:8080/"
        },
        "id": "B27Fh1L6ZoFh",
        "outputId": "b0ff1612-8ca8-4317-89e9-205ab3985d91"
      },
      "outputs": [
        {
          "output_type": "stream",
          "name": "stdout",
          "text": [
            "Requirement already satisfied: gdown in /usr/local/lib/python3.10/dist-packages (5.1.0)\n",
            "Requirement already satisfied: beautifulsoup4 in /usr/local/lib/python3.10/dist-packages (from gdown) (4.12.3)\n",
            "Requirement already satisfied: filelock in /usr/local/lib/python3.10/dist-packages (from gdown) (3.15.3)\n",
            "Requirement already satisfied: requests[socks] in /usr/local/lib/python3.10/dist-packages (from gdown) (2.31.0)\n",
            "Requirement already satisfied: tqdm in /usr/local/lib/python3.10/dist-packages (from gdown) (4.66.4)\n",
            "Requirement already satisfied: soupsieve>1.2 in /usr/local/lib/python3.10/dist-packages (from beautifulsoup4->gdown) (2.5)\n",
            "Requirement already satisfied: charset-normalizer<4,>=2 in /usr/local/lib/python3.10/dist-packages (from requests[socks]->gdown) (3.3.2)\n",
            "Requirement already satisfied: idna<4,>=2.5 in /usr/local/lib/python3.10/dist-packages (from requests[socks]->gdown) (3.7)\n",
            "Requirement already satisfied: urllib3<3,>=1.21.1 in /usr/local/lib/python3.10/dist-packages (from requests[socks]->gdown) (2.0.7)\n",
            "Requirement already satisfied: certifi>=2017.4.17 in /usr/local/lib/python3.10/dist-packages (from requests[socks]->gdown) (2024.6.2)\n",
            "Requirement already satisfied: PySocks!=1.5.7,>=1.5.6 in /usr/local/lib/python3.10/dist-packages (from requests[socks]->gdown) (1.7.1)\n"
          ]
        }
      ],
      "source": [
        "!pip install gdown"
      ]
    },
    {
      "cell_type": "code",
      "source": [
        "!gdown https://drive.google.com/uc?id=11TDcwpcIOGNuBmmnbCT-UUKrKOsHjOYU\n",
        "!gdown https://drive.google.com/uc?id=1Y7fX_ZhytPBczgh7fctKSLVNJhZzQn3E"
      ],
      "metadata": {
        "colab": {
          "base_uri": "https://localhost:8080/"
        },
        "id": "BnpWxXprpXkq",
        "outputId": "d548bcd3-6e50-42d0-df76-8a8354b80e3f"
      },
      "id": "BnpWxXprpXkq",
      "execution_count": 3,
      "outputs": [
        {
          "output_type": "stream",
          "name": "stdout",
          "text": [
            "Downloading...\n",
            "From: https://drive.google.com/uc?id=11TDcwpcIOGNuBmmnbCT-UUKrKOsHjOYU\n",
            "To: /content/summerdays.csv\n",
            "100% 14.3k/14.3k [00:00<00:00, 26.5MB/s]\n",
            "Downloading...\n",
            "From: https://drive.google.com/uc?id=1Y7fX_ZhytPBczgh7fctKSLVNJhZzQn3E\n",
            "To: /content/timeseries.csv\n",
            "100% 35.4M/35.4M [00:00<00:00, 69.5MB/s]\n"
          ]
        }
      ]
    },
    {
      "cell_type": "code",
      "execution_count": 4,
      "id": "859846e8",
      "metadata": {
        "id": "859846e8"
      },
      "outputs": [],
      "source": [
        "su = pd.read_csv('summerdays.csv',index_col=0)\n",
        "ts = pd.read_csv('timeseries.csv',index_col=0)\n",
        "su = torch.tensor(su.values, dtype=torch.float32).T\n",
        "ts = torch.tensor(ts.values, dtype=torch.float32).T\n",
        "su = (su-su.mean())/su.std()\n",
        "ts = (ts-ts.mean())/ts.std()\n",
        "ts = ts.unsqueeze(1)\n",
        "\n",
        "x = ts\n",
        "y = su"
      ]
    },
    {
      "cell_type": "markdown",
      "id": "c442f8fc",
      "metadata": {
        "id": "c442f8fc"
      },
      "source": [
        "To use 2d convolutions, we need to have a channel dimension for our input tensor, which should be of size `(n_batch, n_channels, n_rows, n_columns)`. Use `reshape` or `unsqueeze` to add a channel axis of size 1 to `x`. It should be in position one, after the batch axis (position 0) but before the spatial dimensions.\n",
        "\n",
        "Similarly, change `y` to have a second dimension of size 1, so that it has two dimensions total. This way it will match the output coming from out network."
      ]
    },
    {
      "cell_type": "markdown",
      "id": "14dcbb77",
      "metadata": {
        "id": "14dcbb77"
      },
      "source": [
        "Create a class defining your convolutional network.\n",
        "\n",
        "Add code to the `__init__` method to define the layers, and add code to the `forward` method to use them.\n",
        "* Start with a convolution with 30 output channels, and 'same' padding so that the image width and height are the same in the input and output. Use filters with a height of 4 and width of 8.\n",
        "* Then use a `tanh` nonlinearity\n",
        "* Next use a 2x2 maxpooling layer\n",
        "* Then another convolution with 30 outputs, filter height 2 and filter width 4.\n",
        "* Next another `tanh`\n",
        "* Now another 2x2 maxpooling layer\n",
        "* A third convolution with 30 outputs, filter height 2 and filter width 4\n",
        "* Now reshape the output so the batch dimension is unchanged, but all other dimensions are combined into one.\n",
        "* Now use a fully connected layer with 30 outputs\n",
        "* Now a `tanh`\n",
        "* Now a second fully connected layer with 1 output: that's $\\hat our y$, which our forward method should return!"
      ]
    },
    {
      "cell_type": "code",
      "execution_count": 5,
      "id": "9223ccd7",
      "metadata": {
        "id": "9223ccd7"
      },
      "outputs": [],
      "source": [
        "# build the convnet from the paper\n",
        "class ConvNet(torch.nn.Module):\n",
        "    def __init__(self, input_channels=1, hidden_channels=30, hidden_units=30, n_outputs=1):\n",
        "        super(ConvNet, self).__init__()\n",
        "\n",
        "        self.first_conv = nn.Conv1d(input_channels,hidden_channels,(2),padding='same')\n",
        "        self.first_maxpool = nn.MaxPool1d((2))\n",
        "        self.first_batchnorm = nn.BatchNorm1d(hidden_channels)\n",
        "        self.second_batchnorm = nn.BatchNorm1d(hidden_channels)\n",
        "        self.second_conv = nn.Conv1d(hidden_channels,hidden_channels,(2),padding='same')\n",
        "        self.first_FC = nn.Linear(30*1826,hidden_units)\n",
        "        self.second_FC = nn.Linear(hidden_units, n_outputs)\n",
        "\n",
        "\n",
        "        # ...\n",
        "\n",
        "    def forward(self, x):\n",
        "        #print(x[0][0])\n",
        "        x = self.first_conv(x)\n",
        "        x = self.first_batchnorm(x)\n",
        "        #print(x[0][0])\n",
        "        x = torch.tanh(x)\n",
        "        x = self.first_maxpool(x)\n",
        "        x = self.second_conv(x)\n",
        "        #print(x.shape)\n",
        "        x = self.second_batchnorm(x)\n",
        "        x = x.view(x.shape[0], -1)\n",
        "        #x = x.flatten()\n",
        "        x = self.first_FC(x)\n",
        "        x = torch.tanh(x)\n",
        "        x = self.second_FC(x)\n",
        "\n",
        "\n",
        "        return x"
      ]
    },
    {
      "cell_type": "markdown",
      "id": "fa10a998",
      "metadata": {
        "id": "fa10a998"
      },
      "source": [
        "Create an instance of your network class.\n",
        "\n",
        "Pass a single batch of data through the network, and check that everything makes sense."
      ]
    },
    {
      "cell_type": "code",
      "execution_count": 6,
      "id": "65f8639d",
      "metadata": {
        "id": "65f8639d"
      },
      "outputs": [],
      "source": [
        "net = ConvNet()"
      ]
    },
    {
      "cell_type": "code",
      "source": [
        "net(ts).shape"
      ],
      "metadata": {
        "colab": {
          "base_uri": "https://localhost:8080/"
        },
        "id": "AIosRFi582GJ",
        "outputId": "b9d18a60-4ed0-464c-b15a-4165a9d4c410"
      },
      "id": "AIosRFi582GJ",
      "execution_count": 7,
      "outputs": [
        {
          "output_type": "stream",
          "name": "stderr",
          "text": [
            "/usr/local/lib/python3.10/dist-packages/torch/nn/modules/conv.py:306: UserWarning: Using padding='same' with even kernel lengths and odd dilation may require a zero-padded copy of the input be created (Triggered internally at ../aten/src/ATen/native/Convolution.cpp:1031.)\n",
            "  return F.conv1d(input, weight, bias, self.stride,\n"
          ]
        },
        {
          "output_type": "execute_result",
          "data": {
            "text/plain": [
              "torch.Size([1000, 1])"
            ]
          },
          "metadata": {},
          "execution_count": 7
        }
      ]
    },
    {
      "cell_type": "code",
      "source": [
        "device = torch.device('cuda:0')\n",
        "net = net.to(device)\n",
        "x = x.to(device)\n",
        "y = y.to(device)"
      ],
      "metadata": {
        "id": "7PArA9cH1oMf"
      },
      "id": "7PArA9cH1oMf",
      "execution_count": null,
      "outputs": []
    },
    {
      "cell_type": "code",
      "execution_count": 8,
      "id": "b49486e0",
      "metadata": {
        "id": "b49486e0"
      },
      "outputs": [],
      "source": [
        "train_len = int(0.9*len(x))\n",
        "valid_len = int(0.2*len(x))\n",
        "test_len = len(x) - train_len - valid_len\n",
        "dataset = TensorDataset(x, y)\n",
        "train, valid, test = torch.utils.data.random_split(dataset,[train_len, valid_len, test_len])\n",
        "data_loader = DataLoader(train,batch_size=32, shuffle=True)\n",
        "valid_x, valid_y = valid[:]\n",
        "test_x, test_y = test[:]"
      ]
    },
    {
      "cell_type": "markdown",
      "id": "d3118951",
      "metadata": {
        "id": "d3118951"
      },
      "source": [
        "Write a training loop.\n",
        "\n",
        "To avoid having to loop over trainable parameters, we'll use the optimizer class. We tell it once which parameters to update and what the learning rate is, then we can simply call `optimizer.step()` after calling `loss.backward()`, and all the parameters will be updated appropriately.\n",
        "\n",
        "**Important**: For the optimizer to work properly each convolutional or fully connected layer must be an attribute of your `net.object`, for example by calling `self.layer = torch.nn.Conv2d(...)` in your network's `__init__` method. If you want to use a list instead that's ok, but in that case include `self.layers_list = torch.nn.ModuleList(layers_list)` to make sure that the optimizer finds the parameters of these layers.\n",
        "\n",
        "Train your network over at least 300 epochs with a learning rate of 0.001. Keep track of the loss values and plot them at the end\n",
        "\n",
        "**Optional**: if you want training to go more quickly, use a GPU instance. Generally you'll get it for 12 hours, and it will disconnect if it goes idle for an hour.\n",
        "* In the colab menu, go to Runtime -> Change runtime type -> Hardware accelerator -> GPU and restart the colab notebook.\n",
        "* Use `print(torch.cuda.get_device_name(0))` to figure out what kind of GPU you have\n",
        "* Define `device = torch.device('cuda:0')`\n",
        "* Call `net = net.to(device)` and `x = x.to(device)` and `y = y.to(device)`. Create a new Dataset and Dataloader, and start training\n"
      ]
    },
    {
      "cell_type": "code",
      "execution_count": 9,
      "id": "8ee0b413",
      "metadata": {
        "colab": {
          "base_uri": "https://localhost:8080/"
        },
        "id": "8ee0b413",
        "outputId": "cea7fa56-7f6e-449b-899f-aeda8a360479"
      },
      "outputs": [
        {
          "output_type": "stream",
          "name": "stderr",
          "text": [
            "100%|██████████| 300/300 [22:55<00:00,  4.58s/it]\n"
          ]
        }
      ],
      "source": [
        "n_epochs = 300\n",
        "learning_rate = 0.001  # adjust this if necessary\n",
        "\n",
        "lossfunc = torch.nn.MSELoss()\n",
        "optimizer = torch.optim.SGD(net.parameters(), lr=learning_rate)\n",
        "\n",
        "loss_list = []\n",
        "\n",
        "for epoch in tqdm(range(n_epochs)):\n",
        "    for batch_index, batch in enumerate(data_loader):\n",
        "        # note that each time this loop is run through, the order of the data is randomly permuted!\n",
        "        x_batch, y_batch = batch\n",
        "        optimizer.zero_grad()\n",
        "\n",
        "        yhat_batch = net(x_batch)\n",
        "        loss = lossfunc(yhat_batch,y_batch)\n",
        "        loss_list.append(loss.cpu().detach().numpy())\n",
        "\n",
        "        loss.backward()\n",
        "        optimizer.step()  # this will update parameters using torch.no_grad()\n",
        "        optimizer.zero_grad()"
      ]
    },
    {
      "cell_type": "code",
      "execution_count": 10,
      "id": "-n74256xCIzJ",
      "metadata": {
        "colab": {
          "base_uri": "https://localhost:8080/",
          "height": 467
        },
        "id": "-n74256xCIzJ",
        "outputId": "dfc707b5-7053-44b4-fbb2-69013e1f2976"
      },
      "outputs": [
        {
          "output_type": "execute_result",
          "data": {
            "text/plain": [
              "[<matplotlib.lines.Line2D at 0x783ee3aa2e00>]"
            ]
          },
          "metadata": {},
          "execution_count": 10
        },
        {
          "output_type": "display_data",
          "data": {
            "text/plain": [
              "<Figure size 640x480 with 1 Axes>"
            ],
            "image/png": "[encoded data removed]"
          },
          "metadata": {}
        }
      ],
      "source": [
        "plt.plot(loss_list)"
      ]
    },
    {
      "cell_type": "markdown",
      "id": "151db14c",
      "metadata": {
        "id": "151db14c"
      },
      "source": [
        "Plot the predictions $\\hat y$ against the targets $y$."
      ]
    },
    {
      "cell_type": "code",
      "execution_count": 13,
      "id": "c8ce28fe",
      "metadata": {
        "id": "c8ce28fe",
        "scrolled": false
      },
      "outputs": [],
      "source": [
        "yhat = net(x)"
      ]
    },
    {
      "cell_type": "code",
      "execution_count": 14,
      "id": "rcqWRtZOg2HL",
      "metadata": {
        "colab": {
          "base_uri": "https://localhost:8080/",
          "height": 467
        },
        "id": "rcqWRtZOg2HL",
        "outputId": "d6b6b0dd-d495-43db-c7d5-1b25c486eea5"
      },
      "outputs": [
        {
          "output_type": "execute_result",
          "data": {
            "text/plain": [
              "<matplotlib.collections.PathCollection at 0x783ee1a00e80>"
            ]
          },
          "metadata": {},
          "execution_count": 14
        },
        {
          "output_type": "display_data",
          "data": {
            "text/plain": [
              "<Figure size 640x480 with 1 Axes>"
            ],
            "image/png": "[encoded data removed]"
          },
          "metadata": {}
        }
      ],
      "source": [
        "plt.scatter(y.cpu().detach().numpy(),yhat.cpu().detach().numpy())"
      ]
    },
    {
      "cell_type": "markdown",
      "id": "2dbdfb34",
      "metadata": {
        "id": "2dbdfb34"
      },
      "source": [
        "Calculate the Pearson's correlation between your prediction and the target over the training data."
      ]
    },
    {
      "cell_type": "code",
      "execution_count": 11,
      "id": "7a74c37d",
      "metadata": {
        "colab": {
          "base_uri": "https://localhost:8080/",
          "height": 346
        },
        "id": "7a74c37d",
        "outputId": "448241e9-d686-49f0-fcc9-dd0d975e2526"
      },
      "outputs": [
        {
          "output_type": "error",
          "ename": "RuntimeError",
          "evalue": "cannot reshape tensor of 0 elements into shape [0, -1] because the unspecified dimension size -1 can be any value and is ambiguous",
          "traceback": [
            "\u001b[0;31m---------------------------------------------------------------------------\u001b[0m",
            "\u001b[0;31mRuntimeError\u001b[0m                              Traceback (most recent call last)",
            "\u001b[0;32m<ipython-input-11-2f96ac5aeffc>\u001b[0m in \u001b[0;36m<cell line: 2>\u001b[0;34m()\u001b[0m\n\u001b[1;32m      1\u001b[0m \u001b[0;31m#print('train',np.corrcoef(train_y.cpu().detach().numpy()[:,0],net(train_x).cpu().detach().numpy()[:,0])[0,1])\u001b[0m\u001b[0;34m\u001b[0m\u001b[0;34m\u001b[0m\u001b[0m\n\u001b[0;32m----> 2\u001b[0;31m \u001b[0mprint\u001b[0m\u001b[0;34m(\u001b[0m\u001b[0;34m'test'\u001b[0m\u001b[0;34m,\u001b[0m\u001b[0mnp\u001b[0m\u001b[0;34m.\u001b[0m\u001b[0mcorrcoef\u001b[0m\u001b[0;34m(\u001b[0m\u001b[0mtest_y\u001b[0m\u001b[0;34m.\u001b[0m\u001b[0mcpu\u001b[0m\u001b[0;34m(\u001b[0m\u001b[0;34m)\u001b[0m\u001b[0;34m.\u001b[0m\u001b[0mdetach\u001b[0m\u001b[0;34m(\u001b[0m\u001b[0;34m)\u001b[0m\u001b[0;34m.\u001b[0m\u001b[0mnumpy\u001b[0m\u001b[0;34m(\u001b[0m\u001b[0;34m)\u001b[0m\u001b[0;34m[\u001b[0m\u001b[0;34m:\u001b[0m\u001b[0;34m,\u001b[0m\u001b[0;36m0\u001b[0m\u001b[0;34m]\u001b[0m\u001b[0;34m,\u001b[0m\u001b[0mnet\u001b[0m\u001b[0;34m(\u001b[0m\u001b[0mtest_x\u001b[0m\u001b[0;34m)\u001b[0m\u001b[0;34m.\u001b[0m\u001b[0mcpu\u001b[0m\u001b[0;34m(\u001b[0m\u001b[0;34m)\u001b[0m\u001b[0;34m.\u001b[0m\u001b[0mdetach\u001b[0m\u001b[0;34m(\u001b[0m\u001b[0;34m)\u001b[0m\u001b[0;34m.\u001b[0m\u001b[0mnumpy\u001b[0m\u001b[0;34m(\u001b[0m\u001b[0;34m)\u001b[0m\u001b[0;34m[\u001b[0m\u001b[0;34m:\u001b[0m\u001b[0;34m,\u001b[0m\u001b[0;36m0\u001b[0m\u001b[0;34m]\u001b[0m\u001b[0;34m)\u001b[0m\u001b[0;34m[\u001b[0m\u001b[0;36m0\u001b[0m\u001b[0;34m,\u001b[0m\u001b[0;36m1\u001b[0m\u001b[0;34m]\u001b[0m\u001b[0;34m)\u001b[0m\u001b[0;34m\u001b[0m\u001b[0;34m\u001b[0m\u001b[0m\n\u001b[0m\u001b[1;32m      3\u001b[0m \u001b[0mprint\u001b[0m\u001b[0;34m(\u001b[0m\u001b[0;34m'valid'\u001b[0m\u001b[0;34m,\u001b[0m\u001b[0mnp\u001b[0m\u001b[0;34m.\u001b[0m\u001b[0mcorrcoef\u001b[0m\u001b[0;34m(\u001b[0m\u001b[0mvalid_y\u001b[0m\u001b[0;34m.\u001b[0m\u001b[0mcpu\u001b[0m\u001b[0;34m(\u001b[0m\u001b[0;34m)\u001b[0m\u001b[0;34m.\u001b[0m\u001b[0mdetach\u001b[0m\u001b[0;34m(\u001b[0m\u001b[0;34m)\u001b[0m\u001b[0;34m.\u001b[0m\u001b[0mnumpy\u001b[0m\u001b[0;34m(\u001b[0m\u001b[0;34m)\u001b[0m\u001b[0;34m[\u001b[0m\u001b[0;34m:\u001b[0m\u001b[0;34m,\u001b[0m\u001b[0;36m0\u001b[0m\u001b[0;34m]\u001b[0m\u001b[0;34m,\u001b[0m\u001b[0mnet\u001b[0m\u001b[0;34m(\u001b[0m\u001b[0mvalid_x\u001b[0m\u001b[0;34m)\u001b[0m\u001b[0;34m.\u001b[0m\u001b[0mcpu\u001b[0m\u001b[0;34m(\u001b[0m\u001b[0;34m)\u001b[0m\u001b[0;34m.\u001b[0m\u001b[0mdetach\u001b[0m\u001b[0;34m(\u001b[0m\u001b[0;34m)\u001b[0m\u001b[0;34m.\u001b[0m\u001b[0mnumpy\u001b[0m\u001b[0;34m(\u001b[0m\u001b[0;34m)\u001b[0m\u001b[0;34m[\u001b[0m\u001b[0;34m:\u001b[0m\u001b[0;34m,\u001b[0m\u001b[0;36m0\u001b[0m\u001b[0;34m]\u001b[0m\u001b[0;34m)\u001b[0m\u001b[0;34m[\u001b[0m\u001b[0;36m0\u001b[0m\u001b[0;34m,\u001b[0m\u001b[0;36m1\u001b[0m\u001b[0;34m]\u001b[0m\u001b[0;34m)\u001b[0m\u001b[0;34m\u001b[0m\u001b[0;34m\u001b[0m\u001b[0m\n",
            "\u001b[0;32m/usr/local/lib/python3.10/dist-packages/torch/nn/modules/module.py\u001b[0m in \u001b[0;36m_wrapped_call_impl\u001b[0;34m(self, *args, **kwargs)\u001b[0m\n\u001b[1;32m   1530\u001b[0m             \u001b[0;32mreturn\u001b[0m \u001b[0mself\u001b[0m\u001b[0;34m.\u001b[0m\u001b[0m_compiled_call_impl\u001b[0m\u001b[0;34m(\u001b[0m\u001b[0;34m*\u001b[0m\u001b[0margs\u001b[0m\u001b[0;34m,\u001b[0m \u001b[0;34m**\u001b[0m\u001b[0mkwargs\u001b[0m\u001b[0;34m)\u001b[0m  \u001b[0;31m# type: ignore[misc]\u001b[0m\u001b[0;34m\u001b[0m\u001b[0;34m\u001b[0m\u001b[0m\n\u001b[1;32m   1531\u001b[0m         \u001b[0;32melse\u001b[0m\u001b[0;34m:\u001b[0m\u001b[0;34m\u001b[0m\u001b[0;34m\u001b[0m\u001b[0m\n\u001b[0;32m-> 1532\u001b[0;31m             \u001b[0;32mreturn\u001b[0m \u001b[0mself\u001b[0m\u001b[0;34m.\u001b[0m\u001b[0m_call_impl\u001b[0m\u001b[0;34m(\u001b[0m\u001b[0;34m*\u001b[0m\u001b[0margs\u001b[0m\u001b[0;34m,\u001b[0m \u001b[0;34m**\u001b[0m\u001b[0mkwargs\u001b[0m\u001b[0;34m)\u001b[0m\u001b[0;34m\u001b[0m\u001b[0;34m\u001b[0m\u001b[0m\n\u001b[0m\u001b[1;32m   1533\u001b[0m \u001b[0;34m\u001b[0m\u001b[0m\n\u001b[1;32m   1534\u001b[0m     \u001b[0;32mdef\u001b[0m \u001b[0m_call_impl\u001b[0m\u001b[0;34m(\u001b[0m\u001b[0mself\u001b[0m\u001b[0;34m,\u001b[0m \u001b[0;34m*\u001b[0m\u001b[0margs\u001b[0m\u001b[0;34m,\u001b[0m \u001b[0;34m**\u001b[0m\u001b[0mkwargs\u001b[0m\u001b[0;34m)\u001b[0m\u001b[0;34m:\u001b[0m\u001b[0;34m\u001b[0m\u001b[0;34m\u001b[0m\u001b[0m\n",
            "\u001b[0;32m/usr/local/lib/python3.10/dist-packages/torch/nn/modules/module.py\u001b[0m in \u001b[0;36m_call_impl\u001b[0;34m(self, *args, **kwargs)\u001b[0m\n\u001b[1;32m   1539\u001b[0m                 \u001b[0;32mor\u001b[0m \u001b[0m_global_backward_pre_hooks\u001b[0m \u001b[0;32mor\u001b[0m \u001b[0m_global_backward_hooks\u001b[0m\u001b[0;34m\u001b[0m\u001b[0;34m\u001b[0m\u001b[0m\n\u001b[1;32m   1540\u001b[0m                 or _global_forward_hooks or _global_forward_pre_hooks):\n\u001b[0;32m-> 1541\u001b[0;31m             \u001b[0;32mreturn\u001b[0m \u001b[0mforward_call\u001b[0m\u001b[0;34m(\u001b[0m\u001b[0;34m*\u001b[0m\u001b[0margs\u001b[0m\u001b[0;34m,\u001b[0m \u001b[0;34m**\u001b[0m\u001b[0mkwargs\u001b[0m\u001b[0;34m)\u001b[0m\u001b[0;34m\u001b[0m\u001b[0;34m\u001b[0m\u001b[0m\n\u001b[0m\u001b[1;32m   1542\u001b[0m \u001b[0;34m\u001b[0m\u001b[0m\n\u001b[1;32m   1543\u001b[0m         \u001b[0;32mtry\u001b[0m\u001b[0;34m:\u001b[0m\u001b[0;34m\u001b[0m\u001b[0;34m\u001b[0m\u001b[0m\n",
            "\u001b[0;32m<ipython-input-5-e467b6788a27>\u001b[0m in \u001b[0;36mforward\u001b[0;34m(self, x)\u001b[0m\n\u001b[1;32m     25\u001b[0m         \u001b[0;31m#print(x.shape)\u001b[0m\u001b[0;34m\u001b[0m\u001b[0;34m\u001b[0m\u001b[0m\n\u001b[1;32m     26\u001b[0m         \u001b[0mx\u001b[0m \u001b[0;34m=\u001b[0m \u001b[0mself\u001b[0m\u001b[0;34m.\u001b[0m\u001b[0msecond_batchnorm\u001b[0m\u001b[0;34m(\u001b[0m\u001b[0mx\u001b[0m\u001b[0;34m)\u001b[0m\u001b[0;34m\u001b[0m\u001b[0;34m\u001b[0m\u001b[0m\n\u001b[0;32m---> 27\u001b[0;31m         \u001b[0mx\u001b[0m \u001b[0;34m=\u001b[0m \u001b[0mx\u001b[0m\u001b[0;34m.\u001b[0m\u001b[0mview\u001b[0m\u001b[0;34m(\u001b[0m\u001b[0mx\u001b[0m\u001b[0;34m.\u001b[0m\u001b[0mshape\u001b[0m\u001b[0;34m[\u001b[0m\u001b[0;36m0\u001b[0m\u001b[0;34m]\u001b[0m\u001b[0;34m,\u001b[0m \u001b[0;34m-\u001b[0m\u001b[0;36m1\u001b[0m\u001b[0;34m)\u001b[0m\u001b[0;34m\u001b[0m\u001b[0;34m\u001b[0m\u001b[0m\n\u001b[0m\u001b[1;32m     28\u001b[0m         \u001b[0;31m#x = x.flatten()\u001b[0m\u001b[0;34m\u001b[0m\u001b[0;34m\u001b[0m\u001b[0m\n\u001b[1;32m     29\u001b[0m         \u001b[0mx\u001b[0m \u001b[0;34m=\u001b[0m \u001b[0mself\u001b[0m\u001b[0;34m.\u001b[0m\u001b[0mfirst_FC\u001b[0m\u001b[0;34m(\u001b[0m\u001b[0mx\u001b[0m\u001b[0;34m)\u001b[0m\u001b[0;34m\u001b[0m\u001b[0;34m\u001b[0m\u001b[0m\n",
            "\u001b[0;31mRuntimeError\u001b[0m: cannot reshape tensor of 0 elements into shape [0, -1] because the unspecified dimension size -1 can be any value and is ambiguous"
          ]
        }
      ],
      "source": [
        "#print('train',np.corrcoef(train_y.cpu().detach().numpy()[:,0],net(train_x).cpu().detach().numpy()[:,0])[0,1])\n",
        "print('test',np.corrcoef(test_y.cpu().detach().numpy()[:,0],net(test_x).cpu().detach().numpy()[:,0])[0,1])\n",
        "print('valid',np.corrcoef(valid_y.cpu().detach().numpy()[:,0],net(valid_x).cpu().detach().numpy()[:,0])[0,1])"
      ]
    },
    {
      "cell_type": "code",
      "source": [
        "plt.scatter(test_y.cpu().detach().numpy(),net(test_x).cpu().detach().numpy())"
      ],
      "metadata": {
        "colab": {
          "base_uri": "https://localhost:8080/",
          "height": 313
        },
        "id": "4xRws74Y45Z0",
        "outputId": "88396b32-3ffd-49da-d25b-659ade1f4b10"
      },
      "id": "4xRws74Y45Z0",
      "execution_count": 12,
      "outputs": [
        {
          "output_type": "error",
          "ename": "RuntimeError",
          "evalue": "cannot reshape tensor of 0 elements into shape [0, -1] because the unspecified dimension size -1 can be any value and is ambiguous",
          "traceback": [
            "\u001b[0;31m---------------------------------------------------------------------------\u001b[0m",
            "\u001b[0;31mRuntimeError\u001b[0m                              Traceback (most recent call last)",
            "\u001b[0;32m<ipython-input-12-4e99b96096bc>\u001b[0m in \u001b[0;36m<cell line: 1>\u001b[0;34m()\u001b[0m\n\u001b[0;32m----> 1\u001b[0;31m \u001b[0mplt\u001b[0m\u001b[0;34m.\u001b[0m\u001b[0mscatter\u001b[0m\u001b[0;34m(\u001b[0m\u001b[0mtest_y\u001b[0m\u001b[0;34m.\u001b[0m\u001b[0mcpu\u001b[0m\u001b[0;34m(\u001b[0m\u001b[0;34m)\u001b[0m\u001b[0;34m.\u001b[0m\u001b[0mdetach\u001b[0m\u001b[0;34m(\u001b[0m\u001b[0;34m)\u001b[0m\u001b[0;34m.\u001b[0m\u001b[0mnumpy\u001b[0m\u001b[0;34m(\u001b[0m\u001b[0;34m)\u001b[0m\u001b[0;34m,\u001b[0m\u001b[0mnet\u001b[0m\u001b[0;34m(\u001b[0m\u001b[0mtest_x\u001b[0m\u001b[0;34m)\u001b[0m\u001b[0;34m.\u001b[0m\u001b[0mcpu\u001b[0m\u001b[0;34m(\u001b[0m\u001b[0;34m)\u001b[0m\u001b[0;34m.\u001b[0m\u001b[0mdetach\u001b[0m\u001b[0;34m(\u001b[0m\u001b[0;34m)\u001b[0m\u001b[0;34m.\u001b[0m\u001b[0mnumpy\u001b[0m\u001b[0;34m(\u001b[0m\u001b[0;34m)\u001b[0m\u001b[0;34m)\u001b[0m\u001b[0;34m\u001b[0m\u001b[0;34m\u001b[0m\u001b[0m\n\u001b[0m",
            "\u001b[0;32m/usr/local/lib/python3.10/dist-packages/torch/nn/modules/module.py\u001b[0m in \u001b[0;36m_wrapped_call_impl\u001b[0;34m(self, *args, **kwargs)\u001b[0m\n\u001b[1;32m   1530\u001b[0m             \u001b[0;32mreturn\u001b[0m \u001b[0mself\u001b[0m\u001b[0;34m.\u001b[0m\u001b[0m_compiled_call_impl\u001b[0m\u001b[0;34m(\u001b[0m\u001b[0;34m*\u001b[0m\u001b[0margs\u001b[0m\u001b[0;34m,\u001b[0m \u001b[0;34m**\u001b[0m\u001b[0mkwargs\u001b[0m\u001b[0;34m)\u001b[0m  \u001b[0;31m# type: ignore[misc]\u001b[0m\u001b[0;34m\u001b[0m\u001b[0;34m\u001b[0m\u001b[0m\n\u001b[1;32m   1531\u001b[0m         \u001b[0;32melse\u001b[0m\u001b[0;34m:\u001b[0m\u001b[0;34m\u001b[0m\u001b[0;34m\u001b[0m\u001b[0m\n\u001b[0;32m-> 1532\u001b[0;31m             \u001b[0;32mreturn\u001b[0m \u001b[0mself\u001b[0m\u001b[0;34m.\u001b[0m\u001b[0m_call_impl\u001b[0m\u001b[0;34m(\u001b[0m\u001b[0;34m*\u001b[0m\u001b[0margs\u001b[0m\u001b[0;34m,\u001b[0m \u001b[0;34m**\u001b[0m\u001b[0mkwargs\u001b[0m\u001b[0;34m)\u001b[0m\u001b[0;34m\u001b[0m\u001b[0;34m\u001b[0m\u001b[0m\n\u001b[0m\u001b[1;32m   1533\u001b[0m \u001b[0;34m\u001b[0m\u001b[0m\n\u001b[1;32m   1534\u001b[0m     \u001b[0;32mdef\u001b[0m \u001b[0m_call_impl\u001b[0m\u001b[0;34m(\u001b[0m\u001b[0mself\u001b[0m\u001b[0;34m,\u001b[0m \u001b[0;34m*\u001b[0m\u001b[0margs\u001b[0m\u001b[0;34m,\u001b[0m \u001b[0;34m**\u001b[0m\u001b[0mkwargs\u001b[0m\u001b[0;34m)\u001b[0m\u001b[0;34m:\u001b[0m\u001b[0;34m\u001b[0m\u001b[0;34m\u001b[0m\u001b[0m\n",
            "\u001b[0;32m/usr/local/lib/python3.10/dist-packages/torch/nn/modules/module.py\u001b[0m in \u001b[0;36m_call_impl\u001b[0;34m(self, *args, **kwargs)\u001b[0m\n\u001b[1;32m   1539\u001b[0m                 \u001b[0;32mor\u001b[0m \u001b[0m_global_backward_pre_hooks\u001b[0m \u001b[0;32mor\u001b[0m \u001b[0m_global_backward_hooks\u001b[0m\u001b[0;34m\u001b[0m\u001b[0;34m\u001b[0m\u001b[0m\n\u001b[1;32m   1540\u001b[0m                 or _global_forward_hooks or _global_forward_pre_hooks):\n\u001b[0;32m-> 1541\u001b[0;31m             \u001b[0;32mreturn\u001b[0m \u001b[0mforward_call\u001b[0m\u001b[0;34m(\u001b[0m\u001b[0;34m*\u001b[0m\u001b[0margs\u001b[0m\u001b[0;34m,\u001b[0m \u001b[0;34m**\u001b[0m\u001b[0mkwargs\u001b[0m\u001b[0;34m)\u001b[0m\u001b[0;34m\u001b[0m\u001b[0;34m\u001b[0m\u001b[0m\n\u001b[0m\u001b[1;32m   1542\u001b[0m \u001b[0;34m\u001b[0m\u001b[0m\n\u001b[1;32m   1543\u001b[0m         \u001b[0;32mtry\u001b[0m\u001b[0;34m:\u001b[0m\u001b[0;34m\u001b[0m\u001b[0;34m\u001b[0m\u001b[0m\n",
            "\u001b[0;32m<ipython-input-5-e467b6788a27>\u001b[0m in \u001b[0;36mforward\u001b[0;34m(self, x)\u001b[0m\n\u001b[1;32m     25\u001b[0m         \u001b[0;31m#print(x.shape)\u001b[0m\u001b[0;34m\u001b[0m\u001b[0;34m\u001b[0m\u001b[0m\n\u001b[1;32m     26\u001b[0m         \u001b[0mx\u001b[0m \u001b[0;34m=\u001b[0m \u001b[0mself\u001b[0m\u001b[0;34m.\u001b[0m\u001b[0msecond_batchnorm\u001b[0m\u001b[0;34m(\u001b[0m\u001b[0mx\u001b[0m\u001b[0;34m)\u001b[0m\u001b[0;34m\u001b[0m\u001b[0;34m\u001b[0m\u001b[0m\n\u001b[0;32m---> 27\u001b[0;31m         \u001b[0mx\u001b[0m \u001b[0;34m=\u001b[0m \u001b[0mx\u001b[0m\u001b[0;34m.\u001b[0m\u001b[0mview\u001b[0m\u001b[0;34m(\u001b[0m\u001b[0mx\u001b[0m\u001b[0;34m.\u001b[0m\u001b[0mshape\u001b[0m\u001b[0;34m[\u001b[0m\u001b[0;36m0\u001b[0m\u001b[0;34m]\u001b[0m\u001b[0;34m,\u001b[0m \u001b[0;34m-\u001b[0m\u001b[0;36m1\u001b[0m\u001b[0;34m)\u001b[0m\u001b[0;34m\u001b[0m\u001b[0;34m\u001b[0m\u001b[0m\n\u001b[0m\u001b[1;32m     28\u001b[0m         \u001b[0;31m#x = x.flatten()\u001b[0m\u001b[0;34m\u001b[0m\u001b[0;34m\u001b[0m\u001b[0m\n\u001b[1;32m     29\u001b[0m         \u001b[0mx\u001b[0m \u001b[0;34m=\u001b[0m \u001b[0mself\u001b[0m\u001b[0;34m.\u001b[0m\u001b[0mfirst_FC\u001b[0m\u001b[0;34m(\u001b[0m\u001b[0mx\u001b[0m\u001b[0;34m)\u001b[0m\u001b[0;34m\u001b[0m\u001b[0;34m\u001b[0m\u001b[0m\n",
            "\u001b[0;31mRuntimeError\u001b[0m: cannot reshape tensor of 0 elements into shape [0, -1] because the unspecified dimension size -1 can be any value and is ambiguous"
          ]
        }
      ]
    },
    {
      "cell_type": "markdown",
      "id": "6aa122ea",
      "metadata": {
        "id": "6aa122ea"
      },
      "source": [
        "Load `hc.nc`, containing heat content of the upper ocean, and use it as a second input channel to the network. Does this improve performance on the training data?"
      ]
    },
    {
      "cell_type": "code",
      "execution_count": null,
      "id": "ff1dc648",
      "metadata": {
        "id": "ff1dc648"
      },
      "outputs": [],
      "source": [
        "hc = xr.open_dataset('hc.nc',decode_times=False)\n",
        "xhc = torch.tensor(hc.temp.values[:-4], dtype=torch.float32)\n",
        "xhc = (xhc-xhc.mean())/xhc.std()\n",
        "xhc = xhc.unsqueeze(1)\n",
        "xc = torch.cat((xc,xhc),dim=1)"
      ]
    },
    {
      "cell_type": "code",
      "execution_count": null,
      "id": "reYifvFnwyCb",
      "metadata": {
        "id": "reYifvFnwyCb"
      },
      "outputs": [],
      "source": [
        "dataset = TensorDataset(xc, yc)  # combine the inputs and outputs into a PyTorch Dataset object\n",
        "# create a dataloader to serve up batches of 8 data point for training\n",
        "data_loader = DataLoader(dataset, batch_size=32, shuffle=True)"
      ]
    },
    {
      "cell_type": "code",
      "execution_count": null,
      "id": "OVqhuUF9uQRH",
      "metadata": {
        "colab": {
          "base_uri": "https://localhost:8080/"
        },
        "id": "OVqhuUF9uQRH",
        "outputId": "7471cc92-9163-4330-af04-2082f27e3206"
      },
      "outputs": [
        {
          "name": "stdout",
          "output_type": "stream",
          "text": [
            "torch.Size([1232, 1])\n"
          ]
        }
      ],
      "source": [
        "net = ConvNet(input_channels=2)\n",
        "\n",
        "\n",
        "for x_batch, y_batch in data_loader:\n",
        "  yhat = net(xc)\n",
        "  break\n",
        "\n",
        "print(yhat.shape)"
      ]
    },
    {
      "cell_type": "code",
      "execution_count": null,
      "id": "RlyiQ_FAuIIf",
      "metadata": {
        "colab": {
          "base_uri": "https://localhost:8080/"
        },
        "id": "RlyiQ_FAuIIf",
        "outputId": "a8c34363-c588-4f42-b262-94c1cd2dd956"
      },
      "outputs": [
        {
          "name": "stderr",
          "output_type": "stream",
          "text": [
            "100%|██████████| 300/300 [10:01<00:00,  2.01s/it]\n"
          ]
        }
      ],
      "source": [
        "n_epochs = 300\n",
        "learning_rate = 0.001  # adjust this if necessary\n",
        "\n",
        "lossfunc = torch.nn.MSELoss()\n",
        "optimizer = torch.optim.SGD(net.parameters(), lr=learning_rate)\n",
        "\n",
        "loss_list = []\n",
        "\n",
        "for epoch in tqdm(range(n_epochs)):\n",
        "    for batch_index, batch in enumerate(data_loader):\n",
        "        # note that each time this loop is run through, the order of the data is randomly permuted!\n",
        "        x_batch, y_batch = batch\n",
        "        optimizer.zero_grad()\n",
        "\n",
        "        yhat_batch = net(x_batch)\n",
        "        loss = lossfunc(yhat_batch,y_batch)\n",
        "        loss_list.append(loss.detach().numpy())\n",
        "\n",
        "        loss.backward()\n",
        "        optimizer.step()  # this will update parameters using torch.no_grad()\n",
        "        optimizer.zero_grad()"
      ]
    },
    {
      "cell_type": "code",
      "execution_count": null,
      "id": "sXT7Yp3szYY4",
      "metadata": {
        "colab": {
          "base_uri": "https://localhost:8080/"
        },
        "id": "sXT7Yp3szYY4",
        "outputId": "b4182ae3-1a4e-4712-9478-cbd7c3e21d5a"
      },
      "outputs": [
        {
          "data": {
            "text/plain": [
              "0.9110140176661191"
            ]
          },
          "execution_count": 67,
          "metadata": {},
          "output_type": "execute_result"
        }
      ],
      "source": [
        "yhat = net(xc)\n",
        "np.corrcoef(yc.detach().numpy()[:,0],yhat.detach().numpy()[:,0])[0,1]"
      ]
    },
    {
      "cell_type": "markdown",
      "id": "_ZAbCpOkzfPg",
      "metadata": {
        "id": "_ZAbCpOkzfPg"
      },
      "source": [
        "Yes! It improves the performance"
      ]
    },
    {
      "cell_type": "markdown",
      "id": "e8845110",
      "metadata": {
        "id": "e8845110"
      },
      "source": [
        "**Optional (+15% max. points)** Include two previous time steps as input for a total of 6 input channels."
      ]
    },
    {
      "cell_type": "code",
      "execution_count": null,
      "id": "05812c87",
      "metadata": {
        "id": "05812c87"
      },
      "outputs": [],
      "source": []
    },
    {
      "cell_type": "markdown",
      "id": "fba04d5d",
      "metadata": {
        "id": "fba04d5d"
      },
      "source": [
        "In this case, we were able to load all of the training data into memory and store it in pytorch tensors. What if the training data were too big to fit into memory all at once? What could we do then? Propose a potential solution to this problem, and describe in words (or if you like, code) roughly how it would work."
      ]
    },
    {
      "cell_type": "markdown",
      "id": "3f470f19",
      "metadata": {
        "id": "3f470f19"
      },
      "source": []
    }
  ],
  "metadata": {
    "colab": {
      "provenance": [],
      "include_colab_link": true
    },
    "kernelspec": {
      "display_name": "Python 3",
      "name": "python3"
    },
    "language_info": {
      "codemirror_mode": {
        "name": "ipython",
        "version": 3
      },
      "file_extension": ".py",
      "mimetype": "text/x-python",
      "name": "python",
      "nbconvert_exporter": "python",
      "pygments_lexer": "ipython3",
      "version": "3.11.5"
    }
  },
  "nbformat": 4,
  "nbformat_minor": 5
}